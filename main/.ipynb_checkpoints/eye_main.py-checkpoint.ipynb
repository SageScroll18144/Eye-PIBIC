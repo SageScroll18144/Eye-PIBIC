{
 "cells": [
  {
   "cell_type": "code",
   "execution_count": 2,
   "id": "0a0f4798",
   "metadata": {
    "scrolled": false
   },
   "outputs": [
    {
     "name": "stdout",
     "output_type": "stream",
     "text": [
      "*Olá! Eu sou um chatbot*.\n",
      "Tenho apenas uma pergunta. Você está em um ambiente sem luz?[S/n]\n",
      "> n\n",
      "\n",
      "Press the keyword 'Q' to exit or 'P' to print the time.\n",
      "\n",
      "Tempo inicial:  1628722467.0376956\n"
     ]
    },
    {
     "name": "stderr",
     "output_type": "stream",
     "text": [
      "[ WARN:0] global /tmp/pip-req-build-xw6jtoah/opencv/modules/highgui/src/window.cpp (703) createTrackbar UI/Trackbar(value of first trackbar:@Eye tracking): Using 'value' pointer is unsafe and deprecated. Use NULL as value pointer. To fetch trackbar value setup callback.\n",
      "[ WARN:0] global /tmp/pip-req-build-xw6jtoah/opencv/modules/highgui/src/window.cpp (703) createTrackbar UI/Trackbar(value of second trackbar:@Eye tracking): Using 'value' pointer is unsafe and deprecated. Use NULL as value pointer. To fetch trackbar value setup callback.\n"
     ]
    },
    {
     "ename": "TypeError",
     "evalue": "'tuple' object is not callable",
     "output_type": "error",
     "traceback": [
      "\u001b[0;31m---------------------------------------------------------------------------\u001b[0m",
      "\u001b[0;31mTypeError\u001b[0m                                 Traceback (most recent call last)",
      "\u001b[0;31mTypeError\u001b[0m: 'tuple' object is not callable"
     ]
    },
    {
     "ename": "TypeError",
     "evalue": "'tuple' object is not callable",
     "output_type": "error",
     "traceback": [
      "\u001b[0;31m---------------------------------------------------------------------------\u001b[0m",
      "\u001b[0;31mTypeError\u001b[0m                                 Traceback (most recent call last)",
      "\u001b[0;31mTypeError\u001b[0m: 'tuple' object is not callable"
     ]
    },
    {
     "ename": "TypeError",
     "evalue": "'tuple' object is not callable",
     "output_type": "error",
     "traceback": [
      "\u001b[0;31m---------------------------------------------------------------------------\u001b[0m",
      "\u001b[0;31mTypeError\u001b[0m                                 Traceback (most recent call last)",
      "\u001b[0;31mTypeError\u001b[0m: 'tuple' object is not callable"
     ]
    },
    {
     "ename": "TypeError",
     "evalue": "'tuple' object is not callable",
     "output_type": "error",
     "traceback": [
      "\u001b[0;31m---------------------------------------------------------------------------\u001b[0m",
      "\u001b[0;31mTypeError\u001b[0m                                 Traceback (most recent call last)",
      "\u001b[0;31mTypeError\u001b[0m: 'tuple' object is not callable"
     ]
    },
    {
     "ename": "TypeError",
     "evalue": "'tuple' object is not callable",
     "output_type": "error",
     "traceback": [
      "\u001b[0;31m---------------------------------------------------------------------------\u001b[0m",
      "\u001b[0;31mTypeError\u001b[0m                                 Traceback (most recent call last)",
      "\u001b[0;31mTypeError\u001b[0m: 'tuple' object is not callable"
     ]
    },
    {
     "ename": "TypeError",
     "evalue": "'tuple' object is not callable",
     "output_type": "error",
     "traceback": [
      "\u001b[0;31m---------------------------------------------------------------------------\u001b[0m",
      "\u001b[0;31mTypeError\u001b[0m                                 Traceback (most recent call last)",
      "\u001b[0;31mTypeError\u001b[0m: 'tuple' object is not callable"
     ]
    },
    {
     "ename": "TypeError",
     "evalue": "'tuple' object is not callable",
     "output_type": "error",
     "traceback": [
      "\u001b[0;31m---------------------------------------------------------------------------\u001b[0m",
      "\u001b[0;31mTypeError\u001b[0m                                 Traceback (most recent call last)",
      "\u001b[0;31mTypeError\u001b[0m: 'tuple' object is not callable"
     ]
    },
    {
     "ename": "TypeError",
     "evalue": "'tuple' object is not callable",
     "output_type": "error",
     "traceback": [
      "\u001b[0;31m---------------------------------------------------------------------------\u001b[0m",
      "\u001b[0;31mTypeError\u001b[0m                                 Traceback (most recent call last)",
      "\u001b[0;31mTypeError\u001b[0m: 'tuple' object is not callable"
     ]
    },
    {
     "ename": "TypeError",
     "evalue": "'tuple' object is not callable",
     "output_type": "error",
     "traceback": [
      "\u001b[0;31m---------------------------------------------------------------------------\u001b[0m",
      "\u001b[0;31mTypeError\u001b[0m                                 Traceback (most recent call last)",
      "\u001b[0;31mTypeError\u001b[0m: 'tuple' object is not callable"
     ]
    },
    {
     "ename": "TypeError",
     "evalue": "'tuple' object is not callable",
     "output_type": "error",
     "traceback": [
      "\u001b[0;31m---------------------------------------------------------------------------\u001b[0m",
      "\u001b[0;31mTypeError\u001b[0m                                 Traceback (most recent call last)",
      "\u001b[0;31mTypeError\u001b[0m: 'tuple' object is not callable"
     ]
    },
    {
     "ename": "TypeError",
     "evalue": "'tuple' object is not callable",
     "output_type": "error",
     "traceback": [
      "\u001b[0;31m---------------------------------------------------------------------------\u001b[0m",
      "\u001b[0;31mTypeError\u001b[0m                                 Traceback (most recent call last)",
      "\u001b[0;31mTypeError\u001b[0m: 'tuple' object is not callable"
     ]
    },
    {
     "ename": "TypeError",
     "evalue": "'tuple' object is not callable",
     "output_type": "error",
     "traceback": [
      "\u001b[0;31m---------------------------------------------------------------------------\u001b[0m",
      "\u001b[0;31mTypeError\u001b[0m                                 Traceback (most recent call last)",
      "\u001b[0;31mTypeError\u001b[0m: 'tuple' object is not callable"
     ]
    },
    {
     "ename": "TypeError",
     "evalue": "'tuple' object is not callable",
     "output_type": "error",
     "traceback": [
      "\u001b[0;31m---------------------------------------------------------------------------\u001b[0m",
      "\u001b[0;31mTypeError\u001b[0m                                 Traceback (most recent call last)",
      "\u001b[0;31mTypeError\u001b[0m: 'tuple' object is not callable"
     ]
    },
    {
     "name": "stdout",
     "output_type": "stream",
     "text": [
      "E 184.2586212158203 89.44827556610107 12.98110318183899\n"
     ]
    },
    {
     "ename": "TypeError",
     "evalue": "'tuple' object is not callable",
     "output_type": "error",
     "traceback": [
      "\u001b[0;31m---------------------------------------------------------------------------\u001b[0m",
      "\u001b[0;31mTypeError\u001b[0m                                 Traceback (most recent call last)",
      "\u001b[0;31mTypeError\u001b[0m: 'tuple' object is not callable"
     ]
    },
    {
     "name": "stdout",
     "output_type": "stream",
     "text": [
      "E 175.5208339691162 81.796875 13.07866382598877\n"
     ]
    },
    {
     "ename": "TypeError",
     "evalue": "'tuple' object is not callable",
     "output_type": "error",
     "traceback": [
      "\u001b[0;31m---------------------------------------------------------------------------\u001b[0m",
      "\u001b[0;31mTypeError\u001b[0m                                 Traceback (most recent call last)",
      "\u001b[0;31mTypeError\u001b[0m: 'tuple' object is not callable"
     ]
    },
    {
     "name": "stdout",
     "output_type": "stream",
     "text": [
      "D 55.83188438415527 63.298550605773926 13.40734052658081\n"
     ]
    },
    {
     "ename": "TypeError",
     "evalue": "'tuple' object is not callable",
     "output_type": "error",
     "traceback": [
      "\u001b[0;31m---------------------------------------------------------------------------\u001b[0m",
      "\u001b[0;31mTypeError\u001b[0m                                 Traceback (most recent call last)",
      "\u001b[0;31mTypeError\u001b[0m: 'tuple' object is not callable"
     ]
    },
    {
     "name": "stdout",
     "output_type": "stream",
     "text": [
      "D 51.66058349609375 58.45863723754883 13.516932010650635\n",
      "D 58.33862495422363 63.943121910095215 13.628108978271484\n"
     ]
    },
    {
     "ename": "TypeError",
     "evalue": "'tuple' object is not callable",
     "output_type": "error",
     "traceback": [
      "\u001b[0;31m---------------------------------------------------------------------------\u001b[0m",
      "\u001b[0;31mTypeError\u001b[0m                                 Traceback (most recent call last)",
      "\u001b[0;31mTypeError\u001b[0m: 'tuple' object is not callable"
     ]
    },
    {
     "name": "stdout",
     "output_type": "stream",
     "text": [
      "D 60.47058868408203 64.15522861480713 13.94922399520874\n",
      "D 58.64102554321289 59.377074241638184 14.390912294387817\n",
      "D 65.57723617553711 67.51490497589111 14.502272605895996\n",
      "D 61.80025863647461 64.86381340026855 14.828928709030151\n",
      "D 63.29702949523926 65.97689723968506 15.272634506225586\n",
      "D 63.01544380187988 64.19305038452148 15.821709632873535\n",
      "E 173.17874336242676 84.61352634429932 16.296985149383545\n"
     ]
    },
    {
     "ename": "TypeError",
     "evalue": "'tuple' object is not callable",
     "output_type": "error",
     "traceback": [
      "\u001b[0;31m---------------------------------------------------------------------------\u001b[0m",
      "\u001b[0;31mTypeError\u001b[0m                                 Traceback (most recent call last)",
      "\u001b[0;31mTypeError\u001b[0m: 'tuple' object is not callable"
     ]
    },
    {
     "name": "stdout",
     "output_type": "stream",
     "text": [
      "E 164.67988204956055 72.72980880737305 16.598384380340576\n",
      "E 172.01287460327148 76.53505039215088 16.818521738052368\n",
      "E 162.27610778808594 70.14163112640381 16.924651384353638\n",
      "E 168.35475158691406 79.31593036651611 17.040610551834106\n"
     ]
    },
    {
     "ename": "TypeError",
     "evalue": "'tuple' object is not callable",
     "output_type": "error",
     "traceback": [
      "\u001b[0;31m---------------------------------------------------------------------------\u001b[0m",
      "\u001b[0;31mTypeError\u001b[0m                                 Traceback (most recent call last)",
      "\u001b[0;31mTypeError\u001b[0m: 'tuple' object is not callable"
     ]
    },
    {
     "ename": "TypeError",
     "evalue": "'tuple' object is not callable",
     "output_type": "error",
     "traceback": [
      "\u001b[0;31m---------------------------------------------------------------------------\u001b[0m",
      "\u001b[0;31mTypeError\u001b[0m                                 Traceback (most recent call last)",
      "\u001b[0;31mTypeError\u001b[0m: 'tuple' object is not callable"
     ]
    },
    {
     "ename": "TypeError",
     "evalue": "'tuple' object is not callable",
     "output_type": "error",
     "traceback": [
      "\u001b[0;31m---------------------------------------------------------------------------\u001b[0m",
      "\u001b[0;31mTypeError\u001b[0m                                 Traceback (most recent call last)",
      "\u001b[0;31mTypeError\u001b[0m: 'tuple' object is not callable"
     ]
    },
    {
     "ename": "TypeError",
     "evalue": "'tuple' object is not callable",
     "output_type": "error",
     "traceback": [
      "\u001b[0;31m---------------------------------------------------------------------------\u001b[0m",
      "\u001b[0;31mTypeError\u001b[0m                                 Traceback (most recent call last)",
      "\u001b[0;31mTypeError\u001b[0m: 'tuple' object is not callable"
     ]
    },
    {
     "name": "stdout",
     "output_type": "stream",
     "text": [
      "E 170.16786575317383 83.18465232849121 19.137138843536377\n"
     ]
    },
    {
     "ename": "TypeError",
     "evalue": "'tuple' object is not callable",
     "output_type": "error",
     "traceback": [
      "\u001b[0;31m---------------------------------------------------------------------------\u001b[0m",
      "\u001b[0;31mTypeError\u001b[0m                                 Traceback (most recent call last)",
      "\u001b[0;31mTypeError\u001b[0m: 'tuple' object is not callable"
     ]
    },
    {
     "name": "stdout",
     "output_type": "stream",
     "text": [
      "E 164.91421508789062 76.06740188598633 19.245173692703247\n",
      "E 166.7799472808838 76.6119794845581 19.34657573699951\n"
     ]
    },
    {
     "ename": "TypeError",
     "evalue": "'tuple' object is not callable",
     "output_type": "error",
     "traceback": [
      "\u001b[0;31m---------------------------------------------------------------------------\u001b[0m",
      "\u001b[0;31mTypeError\u001b[0m                                 Traceback (most recent call last)",
      "\u001b[0;31mTypeError\u001b[0m: 'tuple' object is not callable"
     ]
    },
    {
     "ename": "TypeError",
     "evalue": "'tuple' object is not callable",
     "output_type": "error",
     "traceback": [
      "\u001b[0;31m---------------------------------------------------------------------------\u001b[0m",
      "\u001b[0;31mTypeError\u001b[0m                                 Traceback (most recent call last)",
      "\u001b[0;31mTypeError\u001b[0m: 'tuple' object is not callable"
     ]
    },
    {
     "name": "stdout",
     "output_type": "stream",
     "text": [
      "D 56.45498847961426 62.19708061218262 19.46180510520935\n"
     ]
    },
    {
     "ename": "TypeError",
     "evalue": "'tuple' object is not callable",
     "output_type": "error",
     "traceback": [
      "\u001b[0;31m---------------------------------------------------------------------------\u001b[0m",
      "\u001b[0;31mTypeError\u001b[0m                                 Traceback (most recent call last)",
      "\u001b[0;31mTypeError\u001b[0m: 'tuple' object is not callable"
     ]
    },
    {
     "ename": "TypeError",
     "evalue": "'tuple' object is not callable",
     "output_type": "error",
     "traceback": [
      "\u001b[0;31m---------------------------------------------------------------------------\u001b[0m",
      "\u001b[0;31mTypeError\u001b[0m                                 Traceback (most recent call last)",
      "\u001b[0;31mTypeError\u001b[0m: 'tuple' object is not callable"
     ]
    },
    {
     "name": "stdout",
     "output_type": "stream",
     "text": [
      "D 54.834930419921875 59.76570796966553 19.677735805511475\n",
      "D 51.32632637023926 59.52052021026611 19.787525415420532\n",
      "D 61.98594284057617 67.08232975006104 20.549447536468506\n"
     ]
    },
    {
     "ename": "TypeError",
     "evalue": "'tuple' object is not callable",
     "output_type": "error",
     "traceback": [
      "\u001b[0;31m---------------------------------------------------------------------------\u001b[0m",
      "\u001b[0;31mTypeError\u001b[0m                                 Traceback (most recent call last)",
      "\u001b[0;31mTypeError\u001b[0m: 'tuple' object is not callable"
     ]
    },
    {
     "name": "stdout",
     "output_type": "stream",
     "text": [
      "D 59.49025917053223 66.398268699646 20.68112015724182\n"
     ]
    },
    {
     "ename": "TypeError",
     "evalue": "'tuple' object is not callable",
     "output_type": "error",
     "traceback": [
      "\u001b[0;31m---------------------------------------------------------------------------\u001b[0m",
      "\u001b[0;31mTypeError\u001b[0m                                 Traceback (most recent call last)",
      "\u001b[0;31mTypeError\u001b[0m: 'tuple' object is not callable"
     ]
    },
    {
     "ename": "TypeError",
     "evalue": "'tuple' object is not callable",
     "output_type": "error",
     "traceback": [
      "\u001b[0;31m---------------------------------------------------------------------------\u001b[0m",
      "\u001b[0;31mTypeError\u001b[0m                                 Traceback (most recent call last)",
      "\u001b[0;31mTypeError\u001b[0m: 'tuple' object is not callable"
     ]
    },
    {
     "ename": "TypeError",
     "evalue": "'tuple' object is not callable",
     "output_type": "error",
     "traceback": [
      "\u001b[0;31m---------------------------------------------------------------------------\u001b[0m",
      "\u001b[0;31mTypeError\u001b[0m                                 Traceback (most recent call last)",
      "\u001b[0;31mTypeError\u001b[0m: 'tuple' object is not callable"
     ]
    },
    {
     "ename": "TypeError",
     "evalue": "'tuple' object is not callable",
     "output_type": "error",
     "traceback": [
      "\u001b[0;31m---------------------------------------------------------------------------\u001b[0m",
      "\u001b[0;31mTypeError\u001b[0m                                 Traceback (most recent call last)",
      "\u001b[0;31mTypeError\u001b[0m: 'tuple' object is not callable"
     ]
    },
    {
     "ename": "TypeError",
     "evalue": "'tuple' object is not callable",
     "output_type": "error",
     "traceback": [
      "\u001b[0;31m---------------------------------------------------------------------------\u001b[0m",
      "\u001b[0;31mTypeError\u001b[0m                                 Traceback (most recent call last)",
      "\u001b[0;31mTypeError\u001b[0m: 'tuple' object is not callable"
     ]
    },
    {
     "ename": "TypeError",
     "evalue": "'tuple' object is not callable",
     "output_type": "error",
     "traceback": [
      "\u001b[0;31m---------------------------------------------------------------------------\u001b[0m",
      "\u001b[0;31mTypeError\u001b[0m                                 Traceback (most recent call last)",
      "\u001b[0;31mTypeError\u001b[0m: 'tuple' object is not callable"
     ]
    },
    {
     "ename": "TypeError",
     "evalue": "'tuple' object is not callable",
     "output_type": "error",
     "traceback": [
      "\u001b[0;31m---------------------------------------------------------------------------\u001b[0m",
      "\u001b[0;31mTypeError\u001b[0m                                 Traceback (most recent call last)",
      "\u001b[0;31mTypeError\u001b[0m: 'tuple' object is not callable"
     ]
    },
    {
     "ename": "TypeError",
     "evalue": "'tuple' object is not callable",
     "output_type": "error",
     "traceback": [
      "\u001b[0;31m---------------------------------------------------------------------------\u001b[0m",
      "\u001b[0;31mTypeError\u001b[0m                                 Traceback (most recent call last)",
      "\u001b[0;31mTypeError\u001b[0m: 'tuple' object is not callable"
     ]
    },
    {
     "ename": "TypeError",
     "evalue": "'tuple' object is not callable",
     "output_type": "error",
     "traceback": [
      "\u001b[0;31m---------------------------------------------------------------------------\u001b[0m",
      "\u001b[0;31mTypeError\u001b[0m                                 Traceback (most recent call last)",
      "\u001b[0;31mTypeError\u001b[0m: 'tuple' object is not callable"
     ]
    },
    {
     "ename": "TypeError",
     "evalue": "'tuple' object is not callable",
     "output_type": "error",
     "traceback": [
      "\u001b[0;31m---------------------------------------------------------------------------\u001b[0m",
      "\u001b[0;31mTypeError\u001b[0m                                 Traceback (most recent call last)",
      "\u001b[0;31mTypeError\u001b[0m: 'tuple' object is not callable"
     ]
    },
    {
     "ename": "TypeError",
     "evalue": "'tuple' object is not callable",
     "output_type": "error",
     "traceback": [
      "\u001b[0;31m---------------------------------------------------------------------------\u001b[0m",
      "\u001b[0;31mTypeError\u001b[0m                                 Traceback (most recent call last)",
      "\u001b[0;31mTypeError\u001b[0m: 'tuple' object is not callable"
     ]
    },
    {
     "ename": "TypeError",
     "evalue": "'tuple' object is not callable",
     "output_type": "error",
     "traceback": [
      "\u001b[0;31m---------------------------------------------------------------------------\u001b[0m",
      "\u001b[0;31mTypeError\u001b[0m                                 Traceback (most recent call last)",
      "\u001b[0;31mTypeError\u001b[0m: 'tuple' object is not callable"
     ]
    },
    {
     "ename": "TypeError",
     "evalue": "'tuple' object is not callable",
     "output_type": "error",
     "traceback": [
      "\u001b[0;31m---------------------------------------------------------------------------\u001b[0m",
      "\u001b[0;31mTypeError\u001b[0m                                 Traceback (most recent call last)",
      "\u001b[0;31mTypeError\u001b[0m: 'tuple' object is not callable"
     ]
    },
    {
     "ename": "TypeError",
     "evalue": "'tuple' object is not callable",
     "output_type": "error",
     "traceback": [
      "\u001b[0;31m---------------------------------------------------------------------------\u001b[0m",
      "\u001b[0;31mTypeError\u001b[0m                                 Traceback (most recent call last)",
      "\u001b[0;31mTypeError\u001b[0m: 'tuple' object is not callable"
     ]
    },
    {
     "ename": "TypeError",
     "evalue": "'tuple' object is not callable",
     "output_type": "error",
     "traceback": [
      "\u001b[0;31m---------------------------------------------------------------------------\u001b[0m",
      "\u001b[0;31mTypeError\u001b[0m                                 Traceback (most recent call last)",
      "\u001b[0;31mTypeError\u001b[0m: 'tuple' object is not callable"
     ]
    },
    {
     "ename": "TypeError",
     "evalue": "'tuple' object is not callable",
     "output_type": "error",
     "traceback": [
      "\u001b[0;31m---------------------------------------------------------------------------\u001b[0m",
      "\u001b[0;31mTypeError\u001b[0m                                 Traceback (most recent call last)",
      "\u001b[0;31mTypeError\u001b[0m: 'tuple' object is not callable"
     ]
    },
    {
     "ename": "TypeError",
     "evalue": "'tuple' object is not callable",
     "output_type": "error",
     "traceback": [
      "\u001b[0;31m---------------------------------------------------------------------------\u001b[0m",
      "\u001b[0;31mTypeError\u001b[0m                                 Traceback (most recent call last)",
      "\u001b[0;31mTypeError\u001b[0m: 'tuple' object is not callable"
     ]
    },
    {
     "ename": "TypeError",
     "evalue": "'tuple' object is not callable",
     "output_type": "error",
     "traceback": [
      "\u001b[0;31m---------------------------------------------------------------------------\u001b[0m",
      "\u001b[0;31mTypeError\u001b[0m                                 Traceback (most recent call last)",
      "\u001b[0;31mTypeError\u001b[0m: 'tuple' object is not callable"
     ]
    },
    {
     "ename": "TypeError",
     "evalue": "'tuple' object is not callable",
     "output_type": "error",
     "traceback": [
      "\u001b[0;31m---------------------------------------------------------------------------\u001b[0m",
      "\u001b[0;31mTypeError\u001b[0m                                 Traceback (most recent call last)",
      "\u001b[0;31mTypeError\u001b[0m: 'tuple' object is not callable"
     ]
    },
    {
     "ename": "TypeError",
     "evalue": "'tuple' object is not callable",
     "output_type": "error",
     "traceback": [
      "\u001b[0;31m---------------------------------------------------------------------------\u001b[0m",
      "\u001b[0;31mTypeError\u001b[0m                                 Traceback (most recent call last)",
      "\u001b[0;31mTypeError\u001b[0m: 'tuple' object is not callable"
     ]
    },
    {
     "ename": "TypeError",
     "evalue": "'tuple' object is not callable",
     "output_type": "error",
     "traceback": [
      "\u001b[0;31m---------------------------------------------------------------------------\u001b[0m",
      "\u001b[0;31mTypeError\u001b[0m                                 Traceback (most recent call last)",
      "\u001b[0;31mTypeError\u001b[0m: 'tuple' object is not callable"
     ]
    },
    {
     "ename": "TypeError",
     "evalue": "'tuple' object is not callable",
     "output_type": "error",
     "traceback": [
      "\u001b[0;31m---------------------------------------------------------------------------\u001b[0m",
      "\u001b[0;31mTypeError\u001b[0m                                 Traceback (most recent call last)",
      "\u001b[0;31mTypeError\u001b[0m: 'tuple' object is not callable"
     ]
    },
    {
     "ename": "TypeError",
     "evalue": "'tuple' object is not callable",
     "output_type": "error",
     "traceback": [
      "\u001b[0;31m---------------------------------------------------------------------------\u001b[0m",
      "\u001b[0;31mTypeError\u001b[0m                                 Traceback (most recent call last)",
      "\u001b[0;31mTypeError\u001b[0m: 'tuple' object is not callable"
     ]
    },
    {
     "ename": "TypeError",
     "evalue": "'tuple' object is not callable",
     "output_type": "error",
     "traceback": [
      "\u001b[0;31m---------------------------------------------------------------------------\u001b[0m",
      "\u001b[0;31mTypeError\u001b[0m                                 Traceback (most recent call last)",
      "\u001b[0;31mTypeError\u001b[0m: 'tuple' object is not callable"
     ]
    },
    {
     "ename": "TypeError",
     "evalue": "'tuple' object is not callable",
     "output_type": "error",
     "traceback": [
      "\u001b[0;31m---------------------------------------------------------------------------\u001b[0m",
      "\u001b[0;31mTypeError\u001b[0m                                 Traceback (most recent call last)",
      "\u001b[0;31mTypeError\u001b[0m: 'tuple' object is not callable"
     ]
    },
    {
     "name": "stdout",
     "output_type": "stream",
     "text": [
      "E 166.5696201324463 71.96202564239502 23.20133876800537\n"
     ]
    },
    {
     "ename": "TypeError",
     "evalue": "'tuple' object is not callable",
     "output_type": "error",
     "traceback": [
      "\u001b[0;31m---------------------------------------------------------------------------\u001b[0m",
      "\u001b[0;31mTypeError\u001b[0m                                 Traceback (most recent call last)",
      "\u001b[0;31mTypeError\u001b[0m: 'tuple' object is not callable"
     ]
    },
    {
     "ename": "TypeError",
     "evalue": "'tuple' object is not callable",
     "output_type": "error",
     "traceback": [
      "\u001b[0;31m---------------------------------------------------------------------------\u001b[0m",
      "\u001b[0;31mTypeError\u001b[0m                                 Traceback (most recent call last)",
      "\u001b[0;31mTypeError\u001b[0m: 'tuple' object is not callable"
     ]
    },
    {
     "name": "stdout",
     "output_type": "stream",
     "text": [
      "E 171.6824245452881 83.6618185043335 23.331743955612183\n"
     ]
    },
    {
     "ename": "TypeError",
     "evalue": "'tuple' object is not callable",
     "output_type": "error",
     "traceback": [
      "\u001b[0;31m---------------------------------------------------------------------------\u001b[0m",
      "\u001b[0;31mTypeError\u001b[0m                                 Traceback (most recent call last)",
      "\u001b[0;31mTypeError\u001b[0m: 'tuple' object is not callable"
     ]
    },
    {
     "name": "stdout",
     "output_type": "stream",
     "text": [
      "D 63.89183235168457 69.50220775604248 23.43161654472351\n"
     ]
    },
    {
     "ename": "TypeError",
     "evalue": "'tuple' object is not callable",
     "output_type": "error",
     "traceback": [
      "\u001b[0;31m---------------------------------------------------------------------------\u001b[0m",
      "\u001b[0;31mTypeError\u001b[0m                                 Traceback (most recent call last)",
      "\u001b[0;31mTypeError\u001b[0m: 'tuple' object is not callable"
     ]
    },
    {
     "ename": "TypeError",
     "evalue": "'tuple' object is not callable",
     "output_type": "error",
     "traceback": [
      "\u001b[0;31m---------------------------------------------------------------------------\u001b[0m",
      "\u001b[0;31mTypeError\u001b[0m                                 Traceback (most recent call last)",
      "\u001b[0;31mTypeError\u001b[0m: 'tuple' object is not callable"
     ]
    },
    {
     "name": "stdout",
     "output_type": "stream",
     "text": [
      "D 59.259361267089844 63.11598205566406 23.63681387901306\n"
     ]
    },
    {
     "ename": "TypeError",
     "evalue": "'tuple' object is not callable",
     "output_type": "error",
     "traceback": [
      "\u001b[0;31m---------------------------------------------------------------------------\u001b[0m",
      "\u001b[0;31mTypeError\u001b[0m                                 Traceback (most recent call last)",
      "\u001b[0;31mTypeError\u001b[0m: 'tuple' object is not callable"
     ]
    },
    {
     "name": "stdout",
     "output_type": "stream",
     "text": [
      "D 60.20241355895996 67.13091945648193 23.75963068008423\n"
     ]
    },
    {
     "ename": "TypeError",
     "evalue": "'tuple' object is not callable",
     "output_type": "error",
     "traceback": [
      "\u001b[0;31m---------------------------------------------------------------------------\u001b[0m",
      "\u001b[0;31mTypeError\u001b[0m                                 Traceback (most recent call last)",
      "\u001b[0;31mTypeError\u001b[0m: 'tuple' object is not callable"
     ]
    },
    {
     "ename": "TypeError",
     "evalue": "'tuple' object is not callable",
     "output_type": "error",
     "traceback": [
      "\u001b[0;31m---------------------------------------------------------------------------\u001b[0m",
      "\u001b[0;31mTypeError\u001b[0m                                 Traceback (most recent call last)",
      "\u001b[0;31mTypeError\u001b[0m: 'tuple' object is not callable"
     ]
    },
    {
     "name": "stdout",
     "output_type": "stream",
     "text": [
      "D 65.42334365844727 70.8644905090332 26.501363039016724\n",
      "D 60.020042419433594 67.7837553024292 26.829557180404663\n"
     ]
    }
   ],
   "source": [
    "import cv2\n",
    "import blob\n",
    "import cutEye as ce\n",
    "import time \n",
    "\n",
    "def main(isToCut):\n",
    "    LIM = 100\n",
    "    ll = -1\n",
    "    lr = -1\n",
    "    tbegin = time.time()\n",
    "    print(\"Tempo inicial: \", tbegin)\n",
    "    title_window = ''\n",
    "\n",
    "    def on_trackbar(val):\n",
    "        alpha = val / alpha_slider_max\n",
    "        beta = (1.0 - alpha)\n",
    "        dst = cv2.addWeighted(src1, alpha, src2, beta, 0.0)\n",
    "        cv2.imshow(title_window, dst)\n",
    "\n",
    "    def nothing(x):\n",
    "        pass\n",
    "\n",
    "    scaleFactor = 1.3\n",
    "    minNeighbors = 5\n",
    "\n",
    "    name = \"Eye tracking\"\n",
    "    \n",
    "    bar_nameR = \"value of first trackbar:\"\n",
    "    bar_nameL = \"value of second trackbar:\"\n",
    "    \n",
    "    cam = cv2.VideoCapture(0)\n",
    "    cam.set(cv2.CAP_PROP_FPS, 30)\n",
    "\n",
    "    limite = 0\n",
    "\n",
    "    #importa o classificador de face\n",
    "    face_cascade = cv2.CascadeClassifier('haarcascades/haarcascade_frontalface_default.xml')\n",
    "    #importa o classificador de olho\n",
    "    eye_cascade = cv2.CascadeClassifier('haarcascades/haarcascade_eye.xml')\n",
    "\n",
    "    #Iniciando o algoritmo Blob\n",
    "    blob_parm = cv2.SimpleBlobDetector_Params()\n",
    "    blob_parm.filterByArea = True\n",
    "    blob_parm.maxArea = 1500 #unidade em pixels\n",
    "    blob_dt = cv2.SimpleBlobDetector_create(blob_parm)\n",
    "\n",
    "    #Desenha as barras deslizantes na janela\n",
    "    cv2.namedWindow(name)\n",
    "    cv2.createTrackbar(bar_nameR, name, 0, 255, nothing)\n",
    "    cv2.createTrackbar(bar_nameL, name, 0, 255, nothing)\n",
    "\n",
    "    while(True):\n",
    "        ret, frame = cam.read()\n",
    "        gray = cv2.cvtColor(frame, cv2.COLOR_BGR2GRAY)\n",
    "        \n",
    "        faces = face_cascade.detectMultiScale(gray, scaleFactor, minNeighbors)\n",
    "\n",
    "        if cv2.waitKey(1) == ord('q'): \n",
    "            break\n",
    "        elif cv2.waitKey(1) == ord('p'):\n",
    "            print(\"VI O PONTO, tempo:\", end=' ')\n",
    "            print(time.time() - tbegin)\n",
    "\n",
    "        for (x,y,w,h) in faces:\n",
    "            cv2.rectangle(frame,(x,y),(x+w,y+h),(255,0,0),2)\n",
    "            roi_gray = gray[y:y+h, x:x+w]\n",
    "            roi_color = frame[y:y+h, x:x+w]\n",
    "\n",
    "            cv2.GaussianBlur(roi_gray, (3, 3), 0.005 * (w*h))\n",
    "\n",
    "            #aplica o algoritmo de detecção do olho\n",
    "            eyes = eye_cascade.detectMultiScale(roi_gray)\n",
    "            for i in range(len(eyes)):    \n",
    "                (ex,ey,ew,eh) = eyes[i]\n",
    "                if ey < 1/2*(y+h) - 100:\n",
    "                    cv2.rectangle(roi_color,(ex,ey),(ex+ew,ey+eh),(0,255,0),2)   \n",
    "                    try:\n",
    "                        limiteR = cv2.getTrackbarPos(bar_nameR, name) \n",
    "                        limiteL = cv2.getTrackbarPos(bar_nameL, name) \n",
    "                    except IndexError:\n",
    "                        print(\"Há mais de um elemento na cena que está atrapalhando a detecção do usuário. Try Again Pls :)\")\n",
    "\n",
    "                    eye_img = roi_color[ey:ey+eh, ex:ex+ew]\n",
    "                    if isToCut:\n",
    "                        eye_img = ce.cut_eyebrows(eye_img)\n",
    "\n",
    "                    keypoints = blob.blob_process(eye_img, blob_dt, limiteR)\n",
    "                    keypoints1 = blob.blob_process(eye_img, blob_dt, limiteL)\n",
    "                    cv2.drawKeypoints(eye_img, keypoints, eye_img, (0, 0, 255), cv2.DRAW_MATCHES_FLAGS_DRAW_RICH_KEYPOINTS)\n",
    "                    cv2.drawKeypoints(eye_img, keypoints1, eye_img, (0, 0, 255), cv2.DRAW_MATCHES_FLAGS_DRAW_RICH_KEYPOINTS)\n",
    "                    #cv2.imshow(\"asdf\",blob.img_blob_process(eye_img, blob_dt, limite, 1))\n",
    "                    \n",
    "                    for i in keypoints:\n",
    "                        #print(ex + i.pt[0], ey + i.pt[1])\n",
    "                        if LIM < ex:\n",
    "                            print(\"E \", end='')\n",
    "                            ll = ex\n",
    "                        elif LIM > ex:\n",
    "                            print(\"D \", end='')\n",
    "                            lr = ex\n",
    "                        if ll!=-1 and lr!=-1:\n",
    "                            LIM = (lr+ll)/2\n",
    "                                                    \n",
    "                        print(ex + i.pt[0], ey + i.pt[1], end=' ')\n",
    "                        print(time.time() - tbegin)\n",
    "        \n",
    "                    for i in keypoints1:\n",
    "                        #print(ex + i.pt[0], ey + i.pt[1])\n",
    "                        if LIM < ex:\n",
    "                            print(\"E \", end='')\n",
    "                            ll = ex\n",
    "                        elif LIM > ex:\n",
    "                            print(\"D \", end='')\n",
    "                            lr = ex\n",
    "                        if ll!=-1 and lr!=-1:\n",
    "                            LIM = (lr+ll)/2\n",
    "                                                    \n",
    "                        print(ex + i.pt[0], ey + i.pt[1], end=' ')\n",
    "                        print(time.time() - tbegin)\n",
    "                        \n",
    "        cv2.imshow(name, frame)\n",
    "    \n",
    "    cam.release()\n",
    "    cv2.destroyWindow(name) \n",
    "\n",
    "if __name__ == '__main__':\n",
    "    print(\"*Olá! Eu sou um chatbot*.\\nTenho apenas uma pergunta. Você está em um ambiente sem luz?[S/n]\")\n",
    "    print(\">\", end=' ')\n",
    "    inp = input()\n",
    "    print(\"\\nPress the keyword 'Q' to exit or 'P' to print the time.\\n\")\n",
    "    if inp.upper() == 'S':\n",
    "        main(False)\n",
    "    else:\n",
    "        main(True)"
   ]
  },
  {
   "cell_type": "code",
   "execution_count": null,
   "id": "5a8b45fa",
   "metadata": {},
   "outputs": [],
   "source": []
  },
  {
   "cell_type": "code",
   "execution_count": null,
   "id": "f1b7d656",
   "metadata": {},
   "outputs": [],
   "source": []
  }
 ],
 "metadata": {
  "kernelspec": {
   "display_name": "Python 3 (ipykernel)",
   "language": "python",
   "name": "python3"
  },
  "language_info": {
   "codemirror_mode": {
    "name": "ipython",
    "version": 3
   },
   "file_extension": ".py",
   "mimetype": "text/x-python",
   "name": "python",
   "nbconvert_exporter": "python",
   "pygments_lexer": "ipython3",
   "version": "3.8.10"
  }
 },
 "nbformat": 4,
 "nbformat_minor": 5
}
