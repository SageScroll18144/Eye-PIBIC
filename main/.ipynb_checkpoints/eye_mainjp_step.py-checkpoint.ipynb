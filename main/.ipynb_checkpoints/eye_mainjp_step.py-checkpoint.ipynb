{
 "cells": [
  {
   "cell_type": "code",
   "execution_count": 8,
   "id": "83624307",
   "metadata": {},
   "outputs": [],
   "source": [
    "import cv2\n",
    "import blob\n",
    "import cutEye as ce\n",
    "import time "
   ]
  },
  {
   "cell_type": "code",
   "execution_count": 9,
   "id": "d9075d67",
   "metadata": {},
   "outputs": [
    {
     "name": "stdout",
     "output_type": "stream",
     "text": [
      "*Olá! Eu sou um chatbot*.\n",
      "Tenho apenas uma pergunta. Você está em um ambiente sem luz?[S/n]\n",
      "> n\n",
      "\n",
      "Press the keyword 'Q' to exit or 'P' to print the time.\n",
      "\n"
     ]
    }
   ],
   "source": [
    "isToCut = True\n",
    "\n",
    "print(\"*Olá! Eu sou um chatbot*.\\nTenho apenas uma pergunta. Você está em um ambiente sem luz?[S/n]\")\n",
    "print(\">\", end=' ')\n",
    "inp = input()\n",
    "print(\"\\nPress the keyword 'Q' to exit or 'P' to print the time.\\n\")\n",
    "\n",
    "if inp.upper() == 'S':\n",
    "    isToCut =  False\n"
   ]
  },
  {
   "cell_type": "code",
   "execution_count": 11,
   "id": "28993e07",
   "metadata": {},
   "outputs": [
    {
     "name": "stdout",
     "output_type": "stream",
     "text": [
      "Tempo inicial:  1626392491.2206092\n"
     ]
    }
   ],
   "source": [
    "LIM = 100\n",
    "ll = -1\n",
    "lr = -1\n",
    "\n",
    "tbegin = time.time()\n",
    "print(\"Tempo inicial: \", tbegin)\n",
    "title_window = ''"
   ]
  },
  {
   "cell_type": "code",
   "execution_count": 12,
   "id": "94a7e91b",
   "metadata": {},
   "outputs": [],
   "source": [
    "def on_trackbar(val):\n",
    "    alpha = val / alpha_slider_max\n",
    "    beta = (1.0 - alpha)\n",
    "    dst = cv2.addWeighted(src1, alpha, src2, beta, 0.0)\n",
    "    cv2.imshow(title_window, dst)\n",
    "\n",
    "def nothing(x):\n",
    "    pass"
   ]
  },
  {
   "cell_type": "code",
   "execution_count": 13,
   "id": "1ad2fdd6",
   "metadata": {},
   "outputs": [],
   "source": [
    "scaleFactor = 1.3\n",
    "minNeighbors = 5\n",
    "\n",
    "name = \"Eye tracking\"\n",
    "\n",
    "bar_nameR = \"value of first trackbar:\"\n",
    "bar_nameL = \"value of second trackbar:\""
   ]
  },
  {
   "cell_type": "code",
   "execution_count": 14,
   "id": "f6e6c2a0",
   "metadata": {},
   "outputs": [
    {
     "data": {
      "text/plain": [
       "True"
      ]
     },
     "execution_count": 14,
     "metadata": {},
     "output_type": "execute_result"
    }
   ],
   "source": [
    "cam = cv2.VideoCapture(\"/dev/video2\")\n",
    "cam.set(cv2.CAP_PROP_FPS, 30)"
   ]
  },
  {
   "cell_type": "code",
   "execution_count": 15,
   "id": "09c80928",
   "metadata": {},
   "outputs": [],
   "source": [
    "limite = 0\n",
    "\n",
    "#importa o classificador de face\n",
    "face_cascade = cv2.CascadeClassifier('haarcascades/haarcascade_frontalface_default.xml')\n",
    "#importa o classificador de olho\n",
    "eye_cascade = cv2.CascadeClassifier('haarcascades/haarcascade_eye.xml')"
   ]
  },
  {
   "cell_type": "code",
   "execution_count": 16,
   "id": "d7c48ee4",
   "metadata": {},
   "outputs": [
    {
     "name": "stderr",
     "output_type": "stream",
     "text": [
      "[ WARN:0] global /tmp/pip-req-build-xw6jtoah/opencv/modules/highgui/src/window.cpp (703) createTrackbar UI/Trackbar(value of first trackbar:@Eye tracking): Using 'value' pointer is unsafe and deprecated. Use NULL as value pointer. To fetch trackbar value setup callback.\n",
      "[ WARN:0] global /tmp/pip-req-build-xw6jtoah/opencv/modules/highgui/src/window.cpp (703) createTrackbar UI/Trackbar(value of second trackbar:@Eye tracking): Using 'value' pointer is unsafe and deprecated. Use NULL as value pointer. To fetch trackbar value setup callback.\n"
     ]
    },
    {
     "name": "stdout",
     "output_type": "stream",
     "text": [
      "E 214.9466667175293 93.00666618347168 12.121406078338623\n",
      "D 71.2933349609375 96.0 13.272436380386353\n",
      "D 69.31963348388672 95.65296745300293 13.431221008300781\n",
      "D 68.5 87.0 13.522406816482544\n",
      "E 202.7325096130371 85.18930053710938 18.62814450263977\n",
      "E 206.87461853027344 88.37003135681152 18.886123180389404\n",
      "E 204.63580322265625 83.01234531402588 19.66576886177063\n",
      "E 202.6564884185791 82.99745559692383 20.19532060623169\n",
      "E 201.53448295593262 75.5 20.277459144592285\n",
      "E 199.98333358764648 80.9583330154419 24.527440786361694\n",
      "E 195.72631645202637 81.1192979812622 24.720149040222168\n",
      "E 203.69523811340332 86.5206356048584 25.171595811843872\n",
      "E 206.0 89.5 25.256622791290283\n",
      "E 208.53703689575195 86.76851844787598 25.337833404541016\n"
     ]
    }
   ],
   "source": [
    "#Iniciando o algoritmo Blob\n",
    "blob_parm = cv2.SimpleBlobDetector_Params()\n",
    "blob_parm.filterByArea = True\n",
    "blob_parm.maxArea = 1500 #unidade em pixels\n",
    "blob_dt = cv2.SimpleBlobDetector_create(blob_parm)\n",
    "\n",
    "#Desenha as barras deslizantes na janela\n",
    "cv2.namedWindow(name)\n",
    "cv2.createTrackbar(bar_nameR, name, 0, 255, nothing)\n",
    "cv2.createTrackbar(bar_nameL, name, 0, 255, nothing)\n",
    "\n",
    "while(True):\n",
    "    ret, frame = cam.read()\n",
    "    gray = cv2.cvtColor(frame, cv2.COLOR_BGR2GRAY)\n",
    "    \n",
    "    faces = face_cascade.detectMultiScale(gray, scaleFactor, minNeighbors)\n",
    "    \n",
    "    for (x,y,w,h) in faces:\n",
    "            cv2.rectangle(frame,(x,y),(x+w,y+h),(255,0,0),2)\n",
    "            roi_gray = gray[y:y+h, x:x+w]\n",
    "            roi_color = frame[y:y+h, x:x+w]\n",
    "\n",
    "            cv2.GaussianBlur(roi_gray, (3, 3), 0.005 * (w*h))\n",
    "\n",
    "            #aplica o algoritmo de detecção do olho\n",
    "            eyes = eye_cascade.detectMultiScale(roi_gray)\n",
    "            for i in range(len(eyes)):    \n",
    "                (ex,ey,ew,eh) = eyes[i]\n",
    "                if ey < 1/2*(y+h) - 100:\n",
    "                    cv2.rectangle(roi_color,(ex,ey),(ex+ew,ey+eh),(0,255,0),2)   \n",
    "                    try:\n",
    "                        limiteR = cv2.getTrackbarPos(bar_nameR, name) \n",
    "                        limiteL = cv2.getTrackbarPos(bar_nameL, name) \n",
    "                    except IndexError:\n",
    "                        print(\"Há mais de um elemento na cena que está atrapalhando a detecção do usuário. Try Again Pls :)\")\n",
    "\n",
    "                    eye_img = roi_color[ey:ey+eh, ex:ex+ew]\n",
    "                    if isToCut:\n",
    "                        eye_img = ce.cut_eyebrows(eye_img)\n",
    "\n",
    "                    keypoints = blob.blob_process(eye_img, blob_dt, limiteR)\n",
    "                    keypoints1 = blob.blob_process(eye_img, blob_dt, limiteL)\n",
    "                    cv2.drawKeypoints(eye_img, keypoints, eye_img, (0, 0, 255), cv2.DRAW_MATCHES_FLAGS_DRAW_RICH_KEYPOINTS)\n",
    "                    cv2.drawKeypoints(eye_img, keypoints1, eye_img, (0, 0, 255), cv2.DRAW_MATCHES_FLAGS_DRAW_RICH_KEYPOINTS)\n",
    "                    #cv2.imshow(\"asdf\",blob.img_blob_process(eye_img, blob_dt, limite, 1))\n",
    "                    \n",
    "                    for i in keypoints:\n",
    "                        #print(ex + i.pt[0], ey + i.pt[1])\n",
    "                        if LIM < ex:\n",
    "                            print(\"E \", end='')\n",
    "                            ll = ex\n",
    "                        elif LIM > ex:\n",
    "                            print(\"D \", end='')\n",
    "                            lr = ex\n",
    "                        if ll!=-1 and lr!=-1:\n",
    "                            LIM = (lr+ll)/2\n",
    "                                                    \n",
    "                        print(ex + i.pt[0], ey + i.pt[1], end=' ')\n",
    "                        print(time.time() - tbegin)\n",
    "        \n",
    "                    for i in keypoints1:\n",
    "                        #print(ex + i.pt[0], ey + i.pt[1])\n",
    "                        if LIM < ex:\n",
    "                            print(\"E \", end='')\n",
    "                            ll = ex\n",
    "                        elif LIM > ex:\n",
    "                            print(\"D \", end='')\n",
    "                            lr = ex\n",
    "                        if ll!=-1 and lr!=-1:\n",
    "                            LIM = (lr+ll)/2\n",
    "                                                    \n",
    "                        print(ex + i.pt[0], ey + i.pt[1], end=' ')\n",
    "                        print(time.time() - tbegin)\n",
    "    \n",
    "    cv2.imshow(name, frame)\n",
    "    if cv2.waitKey(25) & 0xFF == ord('q'):\n",
    "        break\n",
    "        \n",
    "cam.release()\n",
    "cv2.destroyWindow(name) "
   ]
  },
  {
   "cell_type": "code",
   "execution_count": null,
   "id": "706059df",
   "metadata": {},
   "outputs": [],
   "source": []
  }
 ],
 "metadata": {
  "kernelspec": {
   "display_name": "Python 3 (ipykernel)",
   "language": "python",
   "name": "python3"
  },
  "language_info": {
   "codemirror_mode": {
    "name": "ipython",
    "version": 3
   },
   "file_extension": ".py",
   "mimetype": "text/x-python",
   "name": "python",
   "nbconvert_exporter": "python",
   "pygments_lexer": "ipython3",
   "version": "3.8.10"
  }
 },
 "nbformat": 4,
 "nbformat_minor": 5
}
